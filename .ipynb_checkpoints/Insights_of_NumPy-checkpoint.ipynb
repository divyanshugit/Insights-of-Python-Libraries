{
 "cells": [
  {
   "cell_type": "markdown",
   "metadata": {
    "_cell_guid": "b1076dfc-b9ad-4769-8c92-a6c4dae69d19",
    "_uuid": "8f2839f25d086af736a60e9eeb907d3b93b6e0e5",
    "papermill": {
     "duration": 0.04628,
     "end_time": "2021-01-27T03:31:20.983327",
     "exception": false,
     "start_time": "2021-01-27T03:31:20.937047",
     "status": "completed"
    },
    "tags": []
   },
   "source": [
    "![](https://upload.wikimedia.org/wikipedia/commons/thumb/3/31/NumPy_logo_2020.svg/1280px-NumPy_logo_2020.svg.png)"
   ]
  },
  {
   "cell_type": "markdown",
   "metadata": {
    "papermill": {
     "duration": 0.044392,
     "end_time": "2021-01-27T03:31:21.073113",
     "exception": false,
     "start_time": "2021-01-27T03:31:21.028721",
     "status": "completed"
    },
    "tags": []
   },
   "source": [
    "<font color='cadetblue'>About:</font>\n",
    "---\n",
    "In this kernel you will get to know about all the stuffs about `NumPy`. This kernel covers basic to advanced aspects of `NumPy`.\n",
    "\n",
    "<font color='red'>Hoping that you will like it.</font>\n",
    "---"
   ]
  },
  {
   "cell_type": "markdown",
   "metadata": {
    "papermill": {
     "duration": 0.044256,
     "end_time": "2021-01-27T03:31:21.161849",
     "exception": false,
     "start_time": "2021-01-27T03:31:21.117593",
     "status": "completed"
    },
    "tags": []
   },
   "source": [
    "<font color='cadetblue'>What is numpy?</font>\n",
    "---\n",
    "\n",
    "NumPy is the fundamental package for scientific computing in Python. It is a Python library that provides a multidimensional array object, various derived objects (such as masked arrays and matrices), and an assortment of routines for fast operations on arrays, including mathematical, logical, shape manipulation, sorting, selecting, I/O, discrete Fourier transforms, basic linear algebra, basic statistical operations, random simulation and much more.\n",
    "\n",
    "---"
   ]
  },
  {
   "cell_type": "markdown",
   "metadata": {
    "papermill": {
     "duration": 0.043424,
     "end_time": "2021-01-27T03:31:21.249701",
     "exception": false,
     "start_time": "2021-01-27T03:31:21.206277",
     "status": "completed"
    },
    "tags": []
   },
   "source": [
    "<h1 align='center'> Basics</h1>\n",
    "\n",
    "*  NumPy’s array class is called `ndarray`. It is also known by the alias `array`. Note that `numpy.array` is not the same as the Standard Python Library class `array.array`, which only handles one-dimensional arrays and offers less functionality. The more important attributes of an `ndarray` object are:\n",
    "    - `ndarray.ndim:` The number of axes(dimensions) of the array.\n",
    "    - `ndarray.shape:` The dimension of array.For a matrix with x rows and y columns, shape will be (x,y).\n",
    "    - `ndarray.size:` The total number of elements of the array or It is equal to the product of the elements of the `shape`.\n",
    "    - `ndarray.dtype:` The type of the elements in the array. Additionally NumPy provides types of its own like- numpy.int32, numpy.int16, and numpy.float64.\n",
    "    - `ndarray.itemsize:` The size in bytes of each element of the array. \n",
    "    - `ndarray.data:` The buffer containing the actual elements of the array. "
   ]
  },
  {
   "cell_type": "markdown",
   "metadata": {
    "papermill": {
     "duration": 0.043743,
     "end_time": "2021-01-27T03:31:21.337360",
     "exception": false,
     "start_time": "2021-01-27T03:31:21.293617",
     "status": "completed"
    },
    "tags": []
   },
   "source": [
    "## Creating a NumPy array"
   ]
  },
  {
   "cell_type": "code",
   "execution_count": 1,
   "metadata": {
    "execution": {
     "iopub.execute_input": "2021-01-27T03:31:21.429631Z",
     "iopub.status.busy": "2021-01-27T03:31:21.428898Z",
     "iopub.status.idle": "2021-01-27T03:31:21.433096Z",
     "shell.execute_reply": "2021-01-27T03:31:21.433637Z"
    },
    "papermill": {
     "duration": 0.051596,
     "end_time": "2021-01-27T03:31:21.433840",
     "exception": false,
     "start_time": "2021-01-27T03:31:21.382244",
     "status": "completed"
    },
    "tags": []
   },
   "outputs": [],
   "source": [
    "import numpy as np"
   ]
  },
  {
   "cell_type": "markdown",
   "metadata": {
    "papermill": {
     "duration": 0.044607,
     "end_time": "2021-01-27T03:31:21.523570",
     "exception": false,
     "start_time": "2021-01-27T03:31:21.478963",
     "status": "completed"
    },
    "tags": []
   },
   "source": [
    "<font color='cadetblue' size='4'>Basic ndarray</font>\n"
   ]
  },
  {
   "cell_type": "code",
   "execution_count": 2,
   "metadata": {
    "execution": {
     "iopub.execute_input": "2021-01-27T03:31:21.614742Z",
     "iopub.status.busy": "2021-01-27T03:31:21.614055Z",
     "iopub.status.idle": "2021-01-27T03:31:21.623749Z",
     "shell.execute_reply": "2021-01-27T03:31:21.624308Z"
    },
    "papermill": {
     "duration": 0.056781,
     "end_time": "2021-01-27T03:31:21.624447",
     "exception": false,
     "start_time": "2021-01-27T03:31:21.567666",
     "status": "completed"
    },
    "tags": []
   },
   "outputs": [
    {
     "data": {
      "text/plain": [
       "array([1, 2, 3, 4])"
      ]
     },
     "execution_count": 2,
     "metadata": {},
     "output_type": "execute_result"
    }
   ],
   "source": [
    "np.array([1,2,3,4])"
   ]
  },
  {
   "cell_type": "code",
   "execution_count": 3,
   "metadata": {
    "execution": {
     "iopub.execute_input": "2021-01-27T03:31:21.719581Z",
     "iopub.status.busy": "2021-01-27T03:31:21.718533Z",
     "iopub.status.idle": "2021-01-27T03:31:21.727102Z",
     "shell.execute_reply": "2021-01-27T03:31:21.726385Z"
    },
    "papermill": {
     "duration": 0.057306,
     "end_time": "2021-01-27T03:31:21.727253",
     "exception": false,
     "start_time": "2021-01-27T03:31:21.669947",
     "status": "completed"
    },
    "tags": []
   },
   "outputs": [
    {
     "data": {
      "text/plain": [
       "array([1., 2., 3., 4.], dtype=float32)"
      ]
     },
     "execution_count": 3,
     "metadata": {},
     "output_type": "execute_result"
    }
   ],
   "source": [
    "# We can specify the type of data inside the array:\n",
    "np.array([1,2,3,4],dtype=np.float32)"
   ]
  },
  {
   "cell_type": "markdown",
   "metadata": {
    "papermill": {
     "duration": 0.047316,
     "end_time": "2021-01-27T03:31:21.821718",
     "exception": false,
     "start_time": "2021-01-27T03:31:21.774402",
     "status": "completed"
    },
    "tags": []
   },
   "source": [
    "<font size='4' font='italic'>Since NumPy arrays can contain only homogeneous datatypes, values will be upcast if the types do not match:</font>"
   ]
  },
  {
   "cell_type": "code",
   "execution_count": 4,
   "metadata": {
    "execution": {
     "iopub.execute_input": "2021-01-27T03:31:21.920663Z",
     "iopub.status.busy": "2021-01-27T03:31:21.919940Z",
     "iopub.status.idle": "2021-01-27T03:31:21.923596Z",
     "shell.execute_reply": "2021-01-27T03:31:21.924151Z"
    },
    "papermill": {
     "duration": 0.056272,
     "end_time": "2021-01-27T03:31:21.924313",
     "exception": false,
     "start_time": "2021-01-27T03:31:21.868041",
     "status": "completed"
    },
    "tags": []
   },
   "outputs": [
    {
     "data": {
      "text/plain": [
       "array([1., 2., 3., 4.])"
      ]
     },
     "execution_count": 4,
     "metadata": {},
     "output_type": "execute_result"
    }
   ],
   "source": [
    "np.array([1,2,3.0,4])"
   ]
  },
  {
   "cell_type": "markdown",
   "metadata": {
    "papermill": {
     "duration": 0.046695,
     "end_time": "2021-01-27T03:31:22.017280",
     "exception": false,
     "start_time": "2021-01-27T03:31:21.970585",
     "status": "completed"
    },
    "tags": []
   },
   "source": [
    "**NumPy arrays can be multi-dimensional too.**"
   ]
  },
  {
   "cell_type": "code",
   "execution_count": 5,
   "metadata": {
    "execution": {
     "iopub.execute_input": "2021-01-27T03:31:22.113726Z",
     "iopub.status.busy": "2021-01-27T03:31:22.112941Z",
     "iopub.status.idle": "2021-01-27T03:31:22.121568Z",
     "shell.execute_reply": "2021-01-27T03:31:22.120971Z"
    },
    "papermill": {
     "duration": 0.058261,
     "end_time": "2021-01-27T03:31:22.121686",
     "exception": false,
     "start_time": "2021-01-27T03:31:22.063425",
     "status": "completed"
    },
    "tags": []
   },
   "outputs": [
    {
     "data": {
      "text/plain": [
       "array([[1, 2, 3, 4],\n",
       "       [5, 6, 7, 8]])"
      ]
     },
     "execution_count": 5,
     "metadata": {},
     "output_type": "execute_result"
    }
   ],
   "source": [
    "a = np.array([[1,2,3,4],[5,6,7,8]])\n",
    "a"
   ]
  },
  {
   "cell_type": "markdown",
   "metadata": {
    "papermill": {
     "duration": 0.045876,
     "end_time": "2021-01-27T03:31:22.214018",
     "exception": false,
     "start_time": "2021-01-27T03:31:22.168142",
     "status": "completed"
    },
    "tags": []
   },
   "source": [
    "<font color='cadetblue' size='4'>Array of zeros</font>\n"
   ]
  },
  {
   "cell_type": "code",
   "execution_count": 6,
   "metadata": {
    "execution": {
     "iopub.execute_input": "2021-01-27T03:31:22.313066Z",
     "iopub.status.busy": "2021-01-27T03:31:22.312052Z",
     "iopub.status.idle": "2021-01-27T03:31:22.314967Z",
     "shell.execute_reply": "2021-01-27T03:31:22.315536Z"
    },
    "papermill": {
     "duration": 0.055222,
     "end_time": "2021-01-27T03:31:22.315679",
     "exception": false,
     "start_time": "2021-01-27T03:31:22.260457",
     "status": "completed"
    },
    "tags": []
   },
   "outputs": [
    {
     "data": {
      "text/plain": [
       "array([0., 0., 0., 0., 0.])"
      ]
     },
     "execution_count": 6,
     "metadata": {},
     "output_type": "execute_result"
    }
   ],
   "source": [
    "np.zeros(5)"
   ]
  },
  {
   "cell_type": "code",
   "execution_count": 7,
   "metadata": {
    "execution": {
     "iopub.execute_input": "2021-01-27T03:31:22.413871Z",
     "iopub.status.busy": "2021-01-27T03:31:22.413163Z",
     "iopub.status.idle": "2021-01-27T03:31:22.418873Z",
     "shell.execute_reply": "2021-01-27T03:31:22.419520Z"
    },
    "papermill": {
     "duration": 0.056347,
     "end_time": "2021-01-27T03:31:22.419659",
     "exception": false,
     "start_time": "2021-01-27T03:31:22.363312",
     "status": "completed"
    },
    "tags": []
   },
   "outputs": [
    {
     "data": {
      "text/plain": [
       "array([[0., 0., 0., 0.],\n",
       "       [0., 0., 0., 0.],\n",
       "       [0., 0., 0., 0.]])"
      ]
     },
     "execution_count": 7,
     "metadata": {},
     "output_type": "execute_result"
    }
   ],
   "source": [
    "np.zeros((3,4))"
   ]
  },
  {
   "cell_type": "markdown",
   "metadata": {
    "papermill": {
     "duration": 0.04706,
     "end_time": "2021-01-27T03:31:22.514344",
     "exception": false,
     "start_time": "2021-01-27T03:31:22.467284",
     "status": "completed"
    },
    "tags": []
   },
   "source": [
    "<font color='cadetblue' size='4'>Array of Ones</font>\n"
   ]
  },
  {
   "cell_type": "code",
   "execution_count": 8,
   "metadata": {
    "execution": {
     "iopub.execute_input": "2021-01-27T03:31:22.615886Z",
     "iopub.status.busy": "2021-01-27T03:31:22.615162Z",
     "iopub.status.idle": "2021-01-27T03:31:22.618090Z",
     "shell.execute_reply": "2021-01-27T03:31:22.618727Z"
    },
    "papermill": {
     "duration": 0.057159,
     "end_time": "2021-01-27T03:31:22.618880",
     "exception": false,
     "start_time": "2021-01-27T03:31:22.561721",
     "status": "completed"
    },
    "tags": []
   },
   "outputs": [
    {
     "data": {
      "text/plain": [
       "array([1, 1, 1, 1, 1], dtype=int32)"
      ]
     },
     "execution_count": 8,
     "metadata": {},
     "output_type": "execute_result"
    }
   ],
   "source": [
    "np.ones(5,dtype=np.int32)"
   ]
  },
  {
   "cell_type": "markdown",
   "metadata": {
    "papermill": {
     "duration": 0.049048,
     "end_time": "2021-01-27T03:31:22.715735",
     "exception": false,
     "start_time": "2021-01-27T03:31:22.666687",
     "status": "completed"
    },
    "tags": []
   },
   "source": [
    "<font color='cadetblue' size='4'>Random number in array</font>"
   ]
  },
  {
   "cell_type": "code",
   "execution_count": 9,
   "metadata": {
    "execution": {
     "iopub.execute_input": "2021-01-27T03:31:22.817228Z",
     "iopub.status.busy": "2021-01-27T03:31:22.816530Z",
     "iopub.status.idle": "2021-01-27T03:31:22.822035Z",
     "shell.execute_reply": "2021-01-27T03:31:22.822602Z"
    },
    "papermill": {
     "duration": 0.058805,
     "end_time": "2021-01-27T03:31:22.822761",
     "exception": false,
     "start_time": "2021-01-27T03:31:22.763956",
     "status": "completed"
    },
    "tags": []
   },
   "outputs": [
    {
     "data": {
      "text/plain": [
       "array([[0.56422557, 0.63780425, 0.59338343],\n",
       "       [0.08724874, 0.45074506, 0.66285035]])"
      ]
     },
     "execution_count": 9,
     "metadata": {},
     "output_type": "execute_result"
    }
   ],
   "source": [
    "# random \n",
    "np.random.rand(2,3)"
   ]
  },
  {
   "cell_type": "code",
   "execution_count": 10,
   "metadata": {
    "execution": {
     "iopub.execute_input": "2021-01-27T03:31:22.924080Z",
     "iopub.status.busy": "2021-01-27T03:31:22.923337Z",
     "iopub.status.idle": "2021-01-27T03:31:22.929667Z",
     "shell.execute_reply": "2021-01-27T03:31:22.928995Z"
    },
    "papermill": {
     "duration": 0.058091,
     "end_time": "2021-01-27T03:31:22.929787",
     "exception": false,
     "start_time": "2021-01-27T03:31:22.871696",
     "status": "completed"
    },
    "tags": []
   },
   "outputs": [
    {
     "data": {
      "text/plain": [
       "array([[5, 5, 5],\n",
       "       [5, 5, 5]])"
      ]
     },
     "execution_count": 10,
     "metadata": {},
     "output_type": "execute_result"
    }
   ],
   "source": [
    "# An array of the choice\n",
    "np.full((2,3),5)"
   ]
  },
  {
   "cell_type": "markdown",
   "metadata": {
    "papermill": {
     "duration": 0.049619,
     "end_time": "2021-01-27T03:31:23.028385",
     "exception": false,
     "start_time": "2021-01-27T03:31:22.978766",
     "status": "completed"
    },
    "tags": []
   },
   "source": [
    "<font color='cadetblue' size='4'>Evenly spaced ndarray</font>"
   ]
  },
  {
   "cell_type": "code",
   "execution_count": 11,
   "metadata": {
    "execution": {
     "iopub.execute_input": "2021-01-27T03:31:23.134220Z",
     "iopub.status.busy": "2021-01-27T03:31:23.133348Z",
     "iopub.status.idle": "2021-01-27T03:31:23.138139Z",
     "shell.execute_reply": "2021-01-27T03:31:23.137586Z"
    },
    "papermill": {
     "duration": 0.060761,
     "end_time": "2021-01-27T03:31:23.138283",
     "exception": false,
     "start_time": "2021-01-27T03:31:23.077522",
     "status": "completed"
    },
    "tags": []
   },
   "outputs": [
    {
     "data": {
      "text/plain": [
       "array([[0, 1, 2, 3, 4],\n",
       "       [5, 6, 7, 8, 9]])"
      ]
     },
     "execution_count": 11,
     "metadata": {},
     "output_type": "execute_result"
    }
   ],
   "source": [
    "np.arange(10).reshape(2,5)"
   ]
  },
  {
   "cell_type": "markdown",
   "metadata": {
    "papermill": {
     "duration": 0.049072,
     "end_time": "2021-01-27T03:31:23.237081",
     "exception": false,
     "start_time": "2021-01-27T03:31:23.188009",
     "status": "completed"
    },
    "tags": []
   },
   "source": [
    "**Another similar function is `np.linspace()`, but instead of step size, it takes in the number of samples that need to be retrieved from the interval. A point to note here is that the last number is included in the values returned unlike in the case of `np.arange()`.**"
   ]
  },
  {
   "cell_type": "code",
   "execution_count": 12,
   "metadata": {
    "execution": {
     "iopub.execute_input": "2021-01-27T03:31:23.348352Z",
     "iopub.status.busy": "2021-01-27T03:31:23.347567Z",
     "iopub.status.idle": "2021-01-27T03:31:23.350509Z",
     "shell.execute_reply": "2021-01-27T03:31:23.351007Z"
    },
    "papermill": {
     "duration": 0.063748,
     "end_time": "2021-01-27T03:31:23.351145",
     "exception": false,
     "start_time": "2021-01-27T03:31:23.287397",
     "status": "completed"
    },
    "tags": []
   },
   "outputs": [
    {
     "data": {
      "text/plain": [
       "array([0. , 0.1, 0.2, 0.3, 0.4, 0.5, 0.6, 0.7, 0.8, 0.9, 1. ])"
      ]
     },
     "execution_count": 12,
     "metadata": {},
     "output_type": "execute_result"
    }
   ],
   "source": [
    "np.linspace(0,1,11)"
   ]
  },
  {
   "cell_type": "markdown",
   "metadata": {
    "papermill": {
     "duration": 0.049657,
     "end_time": "2021-01-27T03:31:23.450845",
     "exception": false,
     "start_time": "2021-01-27T03:31:23.401188",
     "status": "completed"
    },
    "tags": []
   },
   "source": [
    "<font color='cadetblue' size='4'>Identity Matrix in NumPy</font>"
   ]
  },
  {
   "cell_type": "code",
   "execution_count": 13,
   "metadata": {
    "execution": {
     "iopub.execute_input": "2021-01-27T03:31:23.553899Z",
     "iopub.status.busy": "2021-01-27T03:31:23.553098Z",
     "iopub.status.idle": "2021-01-27T03:31:23.558124Z",
     "shell.execute_reply": "2021-01-27T03:31:23.558634Z"
    },
    "papermill": {
     "duration": 0.058231,
     "end_time": "2021-01-27T03:31:23.558781",
     "exception": false,
     "start_time": "2021-01-27T03:31:23.500550",
     "status": "completed"
    },
    "tags": []
   },
   "outputs": [
    {
     "data": {
      "text/plain": [
       "array([[1., 0., 0.],\n",
       "       [0., 1., 0.],\n",
       "       [0., 0., 1.]])"
      ]
     },
     "execution_count": 13,
     "metadata": {},
     "output_type": "execute_result"
    }
   ],
   "source": [
    "np.eye(3)"
   ]
  },
  {
   "cell_type": "markdown",
   "metadata": {
    "papermill": {
     "duration": 0.049937,
     "end_time": "2021-01-27T03:31:23.659291",
     "exception": false,
     "start_time": "2021-01-27T03:31:23.609354",
     "status": "completed"
    },
    "tags": []
   },
   "source": [
    "**NumPy gives you the flexibility to change the diagonal along which the values have to be 1s. You can either move it above the main diagonal:**"
   ]
  },
  {
   "cell_type": "code",
   "execution_count": 14,
   "metadata": {
    "execution": {
     "iopub.execute_input": "2021-01-27T03:31:23.765037Z",
     "iopub.status.busy": "2021-01-27T03:31:23.763979Z",
     "iopub.status.idle": "2021-01-27T03:31:23.769993Z",
     "shell.execute_reply": "2021-01-27T03:31:23.770530Z"
    },
    "papermill": {
     "duration": 0.060313,
     "end_time": "2021-01-27T03:31:23.770676",
     "exception": false,
     "start_time": "2021-01-27T03:31:23.710363",
     "status": "completed"
    },
    "tags": []
   },
   "outputs": [
    {
     "data": {
      "text/plain": [
       "array([[0., 1., 0.],\n",
       "       [0., 0., 1.],\n",
       "       [0., 0., 0.]])"
      ]
     },
     "execution_count": 14,
     "metadata": {},
     "output_type": "execute_result"
    }
   ],
   "source": [
    "np.eye(3,k=1)"
   ]
  },
  {
   "cell_type": "markdown",
   "metadata": {
    "papermill": {
     "duration": 0.052194,
     "end_time": "2021-01-27T03:31:23.873501",
     "exception": false,
     "start_time": "2021-01-27T03:31:23.821307",
     "status": "completed"
    },
    "tags": []
   },
   "source": [
    "**Or move it below the main diagonal**"
   ]
  },
  {
   "cell_type": "code",
   "execution_count": 15,
   "metadata": {
    "execution": {
     "iopub.execute_input": "2021-01-27T03:31:23.980039Z",
     "iopub.status.busy": "2021-01-27T03:31:23.979361Z",
     "iopub.status.idle": "2021-01-27T03:31:23.984670Z",
     "shell.execute_reply": "2021-01-27T03:31:23.985255Z"
    },
    "papermill": {
     "duration": 0.060418,
     "end_time": "2021-01-27T03:31:23.985398",
     "exception": false,
     "start_time": "2021-01-27T03:31:23.924980",
     "status": "completed"
    },
    "tags": []
   },
   "outputs": [
    {
     "data": {
      "text/plain": [
       "array([[0., 0., 0.],\n",
       "       [1., 0., 0.],\n",
       "       [0., 1., 0.]])"
      ]
     },
     "execution_count": 15,
     "metadata": {},
     "output_type": "execute_result"
    }
   ],
   "source": [
    "np.eye(3,k=-1)"
   ]
  },
  {
   "cell_type": "markdown",
   "metadata": {
    "papermill": {
     "duration": 0.051061,
     "end_time": "2021-01-27T03:31:24.088956",
     "exception": false,
     "start_time": "2021-01-27T03:31:24.037895",
     "status": "completed"
    },
    "tags": []
   },
   "source": [
    "<h1 align='center'>The Shape and Reshaping of NumPy Arrays</h1>"
   ]
  },
  {
   "cell_type": "code",
   "execution_count": 16,
   "metadata": {
    "execution": {
     "iopub.execute_input": "2021-01-27T03:31:24.195243Z",
     "iopub.status.busy": "2021-01-27T03:31:24.194498Z",
     "iopub.status.idle": "2021-01-27T03:31:24.202434Z",
     "shell.execute_reply": "2021-01-27T03:31:24.203106Z"
    },
    "papermill": {
     "duration": 0.062823,
     "end_time": "2021-01-27T03:31:24.203268",
     "exception": false,
     "start_time": "2021-01-27T03:31:24.140445",
     "status": "completed"
    },
    "tags": []
   },
   "outputs": [
    {
     "name": "stdout",
     "output_type": "stream",
     "text": [
      "Array: \n",
      " [[ 5 10 15]\n",
      " [20 25 20]]\n",
      "Dimension of the array: \n",
      " 2\n"
     ]
    }
   ],
   "source": [
    "a = np.array([[5,10,15],[20,25,20]])\n",
    "print('Array:','\\n',a)\n",
    "print('Dimension of the array:','\\n',a.ndim)"
   ]
  },
  {
   "cell_type": "code",
   "execution_count": 17,
   "metadata": {
    "execution": {
     "iopub.execute_input": "2021-01-27T03:31:24.317685Z",
     "iopub.status.busy": "2021-01-27T03:31:24.316976Z",
     "iopub.status.idle": "2021-01-27T03:31:24.321189Z",
     "shell.execute_reply": "2021-01-27T03:31:24.321816Z"
    },
    "papermill": {
     "duration": 0.06684,
     "end_time": "2021-01-27T03:31:24.321956",
     "exception": false,
     "start_time": "2021-01-27T03:31:24.255116",
     "status": "completed"
    },
    "tags": []
   },
   "outputs": [
    {
     "name": "stdout",
     "output_type": "stream",
     "text": [
      "Array: \n",
      " [[0 1 2]\n",
      " [3 4 5]]\n",
      "Shape of the array: \n",
      " (2, 3)\n",
      "Number of rows =  2\n",
      "Number of columns =  3\n",
      "Size of array : 6\n",
      "Manual determination of size of array : 6\n"
     ]
    }
   ],
   "source": [
    "a = np.arange(6).reshape(2,3)\n",
    "print('Array:','\\n',a)\n",
    "print('Shape of the array:','\\n',a.shape)\n",
    "print('Number of rows = ',a.shape[0])\n",
    "print('Number of columns = ',a.shape[1])\n",
    "print('Size of array :',a.size)\n",
    "print('Manual determination of size of array :',a.shape[0]*a.shape[1])"
   ]
  },
  {
   "cell_type": "markdown",
   "metadata": {
    "papermill": {
     "duration": 0.052074,
     "end_time": "2021-01-27T03:31:24.426954",
     "exception": false,
     "start_time": "2021-01-27T03:31:24.374880",
     "status": "completed"
    },
    "tags": []
   },
   "source": [
    "![](https://raw.githubusercontent.com/divyanshugit/Insights-of-Python-Libraries/master/src/img_3.png)"
   ]
  },
  {
   "cell_type": "markdown",
   "metadata": {
    "papermill": {
     "duration": 0.052323,
     "end_time": "2021-01-27T03:31:24.531474",
     "exception": false,
     "start_time": "2021-01-27T03:31:24.479151",
     "status": "completed"
    },
    "tags": []
   },
   "source": [
    "<font color='cadetblue' size='4'>Reshaping a NumPy array</font>"
   ]
  },
  {
   "cell_type": "code",
   "execution_count": 18,
   "metadata": {
    "execution": {
     "iopub.execute_input": "2021-01-27T03:31:24.640457Z",
     "iopub.status.busy": "2021-01-27T03:31:24.639427Z",
     "iopub.status.idle": "2021-01-27T03:31:24.646342Z",
     "shell.execute_reply": "2021-01-27T03:31:24.646918Z"
    },
    "papermill": {
     "duration": 0.063192,
     "end_time": "2021-01-27T03:31:24.647059",
     "exception": false,
     "start_time": "2021-01-27T03:31:24.583867",
     "status": "completed"
    },
    "tags": []
   },
   "outputs": [
    {
     "data": {
      "text/plain": [
       "array([[ 3,  6],\n",
       "       [ 9, 12]])"
      ]
     },
     "execution_count": 18,
     "metadata": {},
     "output_type": "execute_result"
    }
   ],
   "source": [
    "# reshape\n",
    "a = np.array([3,6,9,12])\n",
    "np.reshape(a,(2,2))"
   ]
  },
  {
   "cell_type": "code",
   "execution_count": 19,
   "metadata": {
    "execution": {
     "iopub.execute_input": "2021-01-27T03:31:24.759817Z",
     "iopub.status.busy": "2021-01-27T03:31:24.758839Z",
     "iopub.status.idle": "2021-01-27T03:31:24.769160Z",
     "shell.execute_reply": "2021-01-27T03:31:24.768189Z"
    },
    "papermill": {
     "duration": 0.067274,
     "end_time": "2021-01-27T03:31:24.769333",
     "exception": false,
     "start_time": "2021-01-27T03:31:24.702059",
     "status": "completed"
    },
    "tags": []
   },
   "outputs": [
    {
     "name": "stdout",
     "output_type": "stream",
     "text": [
      "Three rows : \n",
      " [[ 3  6]\n",
      " [ 9 12]\n",
      " [18 24]]\n",
      "Three columns : \n",
      " [[ 3  6  9]\n",
      " [12 18 24]]\n"
     ]
    }
   ],
   "source": [
    "a = np.array([3,6,9,12,18,24])\n",
    "print('Three rows :','\\n',np.reshape(a,(3,-1)))\n",
    "print('Three columns :','\\n',np.reshape(a,(-1,3)))"
   ]
  },
  {
   "cell_type": "markdown",
   "metadata": {
    "papermill": {
     "duration": 0.054229,
     "end_time": "2021-01-27T03:31:24.877870",
     "exception": false,
     "start_time": "2021-01-27T03:31:24.823641",
     "status": "completed"
    },
    "tags": []
   },
   "source": [
    "<font color='cadetblue' size='4'>Flattening a NumPy array</font>"
   ]
  },
  {
   "cell_type": "code",
   "execution_count": 20,
   "metadata": {
    "execution": {
     "iopub.execute_input": "2021-01-27T03:31:24.995145Z",
     "iopub.status.busy": "2021-01-27T03:31:24.994064Z",
     "iopub.status.idle": "2021-01-27T03:31:24.998702Z",
     "shell.execute_reply": "2021-01-27T03:31:24.997812Z"
    },
    "papermill": {
     "duration": 0.067721,
     "end_time": "2021-01-27T03:31:24.998874",
     "exception": false,
     "start_time": "2021-01-27T03:31:24.931153",
     "status": "completed"
    },
    "tags": []
   },
   "outputs": [
    {
     "name": "stdout",
     "output_type": "stream",
     "text": [
      "Original shape : (2, 2)\n",
      "Array : \n",
      " [[1. 1.]\n",
      " [1. 1.]]\n",
      "Shape after flatten : (4,)\n",
      "Array : \n",
      " [1. 1. 1. 1.]\n",
      "Shape after ravel : (4,)\n",
      "Array : \n",
      " [1. 1. 1. 1.]\n"
     ]
    }
   ],
   "source": [
    "a = np.ones((2,2))\n",
    "b = a.flatten()\n",
    "c = a.ravel()\n",
    "print('Original shape :', a.shape)\n",
    "print('Array :','\\n', a)\n",
    "print('Shape after flatten :',b.shape)\n",
    "print('Array :','\\n', b)\n",
    "print('Shape after ravel :',c.shape)\n",
    "print('Array :','\\n', c)"
   ]
  },
  {
   "cell_type": "markdown",
   "metadata": {
    "papermill": {
     "duration": 0.054227,
     "end_time": "2021-01-27T03:31:25.107050",
     "exception": false,
     "start_time": "2021-01-27T03:31:25.052823",
     "status": "completed"
    },
    "tags": []
   },
   "source": [
    "![](https://raw.githubusercontent.com/divyanshugit/Insights-of-Python-Libraries/master/src/img_4.png)"
   ]
  },
  {
   "cell_type": "code",
   "execution_count": 21,
   "metadata": {
    "execution": {
     "iopub.execute_input": "2021-01-27T03:31:25.221019Z",
     "iopub.status.busy": "2021-01-27T03:31:25.220017Z",
     "iopub.status.idle": "2021-01-27T03:31:25.223380Z",
     "shell.execute_reply": "2021-01-27T03:31:25.223914Z"
    },
    "papermill": {
     "duration": 0.063028,
     "end_time": "2021-01-27T03:31:25.224058",
     "exception": false,
     "start_time": "2021-01-27T03:31:25.161030",
     "status": "completed"
    },
    "tags": []
   },
   "outputs": [
    {
     "name": "stdout",
     "output_type": "stream",
     "text": [
      "[[1. 1.]\n",
      " [1. 1.]]\n"
     ]
    }
   ],
   "source": [
    "b[0] = 0\n",
    "print(a)"
   ]
  },
  {
   "cell_type": "markdown",
   "metadata": {
    "papermill": {
     "duration": 0.060548,
     "end_time": "2021-01-27T03:31:25.339332",
     "exception": false,
     "start_time": "2021-01-27T03:31:25.278784",
     "status": "completed"
    },
    "tags": []
   },
   "source": [
    "**In this case, the change made was not reflected in the original array.**"
   ]
  },
  {
   "cell_type": "code",
   "execution_count": 22,
   "metadata": {
    "execution": {
     "iopub.execute_input": "2021-01-27T03:31:25.483801Z",
     "iopub.status.busy": "2021-01-27T03:31:25.483074Z",
     "iopub.status.idle": "2021-01-27T03:31:25.487850Z",
     "shell.execute_reply": "2021-01-27T03:31:25.486920Z"
    },
    "papermill": {
     "duration": 0.077783,
     "end_time": "2021-01-27T03:31:25.488001",
     "exception": false,
     "start_time": "2021-01-27T03:31:25.410218",
     "status": "completed"
    },
    "tags": []
   },
   "outputs": [
    {
     "name": "stdout",
     "output_type": "stream",
     "text": [
      "[[0. 1.]\n",
      " [1. 1.]]\n"
     ]
    }
   ],
   "source": [
    "c[0] = 0\n",
    "print(a)"
   ]
  },
  {
   "cell_type": "markdown",
   "metadata": {
    "papermill": {
     "duration": 0.054546,
     "end_time": "2021-01-27T03:31:25.599887",
     "exception": false,
     "start_time": "2021-01-27T03:31:25.545341",
     "status": "completed"
    },
    "tags": []
   },
   "source": [
    "**But here, the changed value is also reflected in the original ndarray.**"
   ]
  },
  {
   "cell_type": "markdown",
   "metadata": {
    "papermill": {
     "duration": 0.056203,
     "end_time": "2021-01-27T03:31:25.711014",
     "exception": false,
     "start_time": "2021-01-27T03:31:25.654811",
     "status": "completed"
    },
    "tags": []
   },
   "source": [
    "What is happening here is that `flatten()` creates a ***Deep copy*** of the ndarray while `ravel()` creates a ***Shallow copy*** of the ndarray.\n",
    "\n",
    "> Deep copy means that a completely new ndarray is created in memory and the ndarray object returned by flatten() is now pointing to this memory location. Therefore, any changes made here will not be reflected in the original ndarray.\n",
    "\n",
    "> A Shallow copy, on the other hand, returns a reference to the original memory location. Meaning the object returned by ravel() is pointing to the same memory location as the original ndarray object. So, definitely, any changes made to this ndarray will also be reflected in the original ndarray too."
   ]
  },
  {
   "cell_type": "markdown",
   "metadata": {
    "papermill": {
     "duration": 0.055,
     "end_time": "2021-01-27T03:31:25.821726",
     "exception": false,
     "start_time": "2021-01-27T03:31:25.766726",
     "status": "completed"
    },
    "tags": []
   },
   "source": [
    "![](https://raw.githubusercontent.com/divyanshugit/Insights-of-Python-Libraries/master/src/img_5.png)"
   ]
  },
  {
   "cell_type": "markdown",
   "metadata": {
    "papermill": {
     "duration": 0.055428,
     "end_time": "2021-01-27T03:31:25.932863",
     "exception": false,
     "start_time": "2021-01-27T03:31:25.877435",
     "status": "completed"
    },
    "tags": []
   },
   "source": [
    "<h1 align='center'>Maths with NumPy arrays<h1>"
   ]
  },
  {
   "cell_type": "code",
   "execution_count": 23,
   "metadata": {
    "execution": {
     "iopub.execute_input": "2021-01-27T03:31:26.051581Z",
     "iopub.status.busy": "2021-01-27T03:31:26.050908Z",
     "iopub.status.idle": "2021-01-27T03:31:26.053512Z",
     "shell.execute_reply": "2021-01-27T03:31:26.053983Z"
    },
    "papermill": {
     "duration": 0.064955,
     "end_time": "2021-01-27T03:31:26.054127",
     "exception": false,
     "start_time": "2021-01-27T03:31:25.989172",
     "status": "completed"
    },
    "tags": []
   },
   "outputs": [],
   "source": [
    "data = np.array([1,2])\n",
    "ones = np.ones(2, dtype=int)"
   ]
  },
  {
   "cell_type": "code",
   "execution_count": 24,
   "metadata": {
    "execution": {
     "iopub.execute_input": "2021-01-27T03:31:26.170653Z",
     "iopub.status.busy": "2021-01-27T03:31:26.169663Z",
     "iopub.status.idle": "2021-01-27T03:31:26.173129Z",
     "shell.execute_reply": "2021-01-27T03:31:26.173697Z"
    },
    "papermill": {
     "duration": 0.064894,
     "end_time": "2021-01-27T03:31:26.173841",
     "exception": false,
     "start_time": "2021-01-27T03:31:26.108947",
     "status": "completed"
    },
    "tags": []
   },
   "outputs": [
    {
     "name": "stdout",
     "output_type": "stream",
     "text": [
      "Addition of two array \n",
      " [2 3]\n"
     ]
    }
   ],
   "source": [
    "#Addition\n",
    "add = data+ones\n",
    "print('Addition of two array','\\n',add)"
   ]
  },
  {
   "cell_type": "markdown",
   "metadata": {
    "papermill": {
     "duration": 0.055216,
     "end_time": "2021-01-27T03:31:26.284287",
     "exception": false,
     "start_time": "2021-01-27T03:31:26.229071",
     "status": "completed"
    },
    "tags": []
   },
   "source": [
    "![](https://raw.githubusercontent.com/divyanshugit/Insights-of-Python-Libraries/master/src/img_8.png)"
   ]
  },
  {
   "cell_type": "code",
   "execution_count": 25,
   "metadata": {
    "execution": {
     "iopub.execute_input": "2021-01-27T03:31:26.403476Z",
     "iopub.status.busy": "2021-01-27T03:31:26.402420Z",
     "iopub.status.idle": "2021-01-27T03:31:26.406587Z",
     "shell.execute_reply": "2021-01-27T03:31:26.405947Z"
    },
    "papermill": {
     "duration": 0.066743,
     "end_time": "2021-01-27T03:31:26.406704",
     "exception": false,
     "start_time": "2021-01-27T03:31:26.339961",
     "status": "completed"
    },
    "tags": []
   },
   "outputs": [
    {
     "name": "stdout",
     "output_type": "stream",
     "text": [
      "Subraction of two array: \n",
      " [0 1]\n",
      "Multiplication of two array \n",
      " [1 4]\n",
      "Division by a constant \n",
      " [1. 1.]\n"
     ]
    }
   ],
   "source": [
    "#Subtraction:\n",
    "sub = data - ones\n",
    "print('Subraction of two array:','\\n',sub)\n",
    "\n",
    "#Multiplication:\n",
    "multi = data*data\n",
    "print('Multiplication of two array','\\n',multi)\n",
    "\n",
    "#Division:\n",
    "div = data/data\n",
    "print('Division by a constant','\\n',div)"
   ]
  },
  {
   "cell_type": "markdown",
   "metadata": {
    "papermill": {
     "duration": 0.055926,
     "end_time": "2021-01-27T03:31:26.518765",
     "exception": false,
     "start_time": "2021-01-27T03:31:26.462839",
     "status": "completed"
    },
    "tags": []
   },
   "source": [
    "![](https://raw.githubusercontent.com/divyanshugit/Insights-of-Python-Libraries/master/src/img_9.png)"
   ]
  },
  {
   "cell_type": "markdown",
   "metadata": {
    "papermill": {
     "duration": 0.055627,
     "end_time": "2021-01-27T03:31:26.630462",
     "exception": false,
     "start_time": "2021-01-27T03:31:26.574835",
     "status": "completed"
    },
    "tags": []
   },
   "source": [
    "<font color='cadetblue' size='4'>Mean, Median and Standard deviation</font>"
   ]
  },
  {
   "cell_type": "code",
   "execution_count": 26,
   "metadata": {
    "execution": {
     "iopub.execute_input": "2021-01-27T03:31:26.751038Z",
     "iopub.status.busy": "2021-01-27T03:31:26.750352Z",
     "iopub.status.idle": "2021-01-27T03:31:26.757048Z",
     "shell.execute_reply": "2021-01-27T03:31:26.756377Z"
    },
    "papermill": {
     "duration": 0.070036,
     "end_time": "2021-01-27T03:31:26.757169",
     "exception": false,
     "start_time": "2021-01-27T03:31:26.687133",
     "status": "completed"
    },
    "tags": []
   },
   "outputs": [
    {
     "name": "stdout",
     "output_type": "stream",
     "text": [
      "Mean : 9.0\n",
      "Standard deviation : 2.8284271247461903\n",
      "Median : 9.0\n"
     ]
    }
   ],
   "source": [
    "a = np.arange(5,15,2)\n",
    "print('Mean :',np.mean(a))\n",
    "print('Standard deviation :',np.std(a))\n",
    "print('Median :',np.median(a))"
   ]
  },
  {
   "cell_type": "markdown",
   "metadata": {
    "papermill": {
     "duration": 0.056876,
     "end_time": "2021-01-27T03:31:26.872563",
     "exception": false,
     "start_time": "2021-01-27T03:31:26.815687",
     "status": "completed"
    },
    "tags": []
   },
   "source": [
    "<font color='cadetblue' size='4'>Min-Max values and their indexes</font>"
   ]
  },
  {
   "cell_type": "code",
   "execution_count": 27,
   "metadata": {
    "execution": {
     "iopub.execute_input": "2021-01-27T03:31:26.994554Z",
     "iopub.status.busy": "2021-01-27T03:31:26.993617Z",
     "iopub.status.idle": "2021-01-27T03:31:26.997027Z",
     "shell.execute_reply": "2021-01-27T03:31:26.997615Z"
    },
    "papermill": {
     "duration": 0.068766,
     "end_time": "2021-01-27T03:31:26.997769",
     "exception": false,
     "start_time": "2021-01-27T03:31:26.929003",
     "status": "completed"
    },
    "tags": []
   },
   "outputs": [
    {
     "name": "stdout",
     "output_type": "stream",
     "text": [
      "Min : [1 3]\n",
      "Max : [6 4]\n"
     ]
    }
   ],
   "source": [
    "a = np.array([[1,6], [4,3]])\n",
    "# minimum along a column\n",
    "print('Min :',np.min(a,axis=0))\n",
    "# maximum along a row\n",
    "print('Max :',np.max(a,axis=1))"
   ]
  },
  {
   "cell_type": "code",
   "execution_count": 28,
   "metadata": {
    "execution": {
     "iopub.execute_input": "2021-01-27T03:31:27.121250Z",
     "iopub.status.busy": "2021-01-27T03:31:27.120215Z",
     "iopub.status.idle": "2021-01-27T03:31:27.124502Z",
     "shell.execute_reply": "2021-01-27T03:31:27.123799Z"
    },
    "papermill": {
     "duration": 0.069638,
     "end_time": "2021-01-27T03:31:27.124626",
     "exception": false,
     "start_time": "2021-01-27T03:31:27.054988",
     "status": "completed"
    },
    "tags": []
   },
   "outputs": [
    {
     "name": "stdout",
     "output_type": "stream",
     "text": [
      "Min : [0 1 0]\n",
      "Max : [1 2]\n"
     ]
    }
   ],
   "source": [
    "a = np.array([[1,6,5],\n",
    "[4,3,7]])\n",
    "# minimum along a column\n",
    "print('Min :',np.argmin(a,axis=0))\n",
    "# maximum along a row\n",
    "print('Max :',np.argmax(a,axis=1))"
   ]
  },
  {
   "cell_type": "markdown",
   "metadata": {
    "papermill": {
     "duration": 0.057243,
     "end_time": "2021-01-27T03:31:27.239386",
     "exception": false,
     "start_time": "2021-01-27T03:31:27.182143",
     "status": "completed"
    },
    "tags": []
   },
   "source": [
    "<h1 align='center'>Sorting in NumPy arrays</h1>"
   ]
  },
  {
   "cell_type": "code",
   "execution_count": 29,
   "metadata": {
    "execution": {
     "iopub.execute_input": "2021-01-27T03:31:27.364069Z",
     "iopub.status.busy": "2021-01-27T03:31:27.362973Z",
     "iopub.status.idle": "2021-01-27T03:31:27.369169Z",
     "shell.execute_reply": "2021-01-27T03:31:27.369805Z"
    },
    "papermill": {
     "duration": 0.073149,
     "end_time": "2021-01-27T03:31:27.369947",
     "exception": false,
     "start_time": "2021-01-27T03:31:27.296798",
     "status": "completed"
    },
    "tags": []
   },
   "outputs": [
    {
     "name": "stdout",
     "output_type": "stream",
     "text": [
      "Sorted array: \n",
      " [1 2 3 4 5 6 7 8 9]\n",
      "Sort along column : \n",
      " [[4 5 6 7]\n",
      " [2 3 7 9]]\n",
      "Sort along row : \n",
      " [[5 2 3 4]\n",
      " [9 6 7 7]]\n"
     ]
    }
   ],
   "source": [
    "a = np.array([1,4,2,5,3,6,8,7,9])\n",
    "print('Sorted array:','\\n',np.sort(a, kind='quicksort'))\n",
    "\n",
    "b = np.array([[5,6,7,4],\n",
    "              [9,2,3,7]])# sort along the column\n",
    "print('Sort along column :','\\n',np.sort(b, kind='mergresort',axis=1))\n",
    "# sort along the row\n",
    "print('Sort along row :','\\n',np.sort(b, kind='mergresort',axis=0))"
   ]
  },
  {
   "cell_type": "markdown",
   "metadata": {
    "papermill": {
     "duration": 0.058673,
     "end_time": "2021-01-27T03:31:27.486681",
     "exception": false,
     "start_time": "2021-01-27T03:31:27.428008",
     "status": "completed"
    },
    "tags": []
   },
   "source": [
    "<h1 align='center'>Indexing and Slicing of NumPy array</h1>"
   ]
  },
  {
   "cell_type": "markdown",
   "metadata": {
    "papermill": {
     "duration": 0.057744,
     "end_time": "2021-01-27T03:31:27.602604",
     "exception": false,
     "start_time": "2021-01-27T03:31:27.544860",
     "status": "completed"
    },
    "tags": []
   },
   "source": [
    "<font color='cadetblue' size='4'>Slicing 1-D NumPy arrays</font>"
   ]
  },
  {
   "cell_type": "code",
   "execution_count": 30,
   "metadata": {
    "execution": {
     "iopub.execute_input": "2021-01-27T03:31:27.727344Z",
     "iopub.status.busy": "2021-01-27T03:31:27.726230Z",
     "iopub.status.idle": "2021-01-27T03:31:27.729645Z",
     "shell.execute_reply": "2021-01-27T03:31:27.730181Z"
    },
    "papermill": {
     "duration": 0.069214,
     "end_time": "2021-01-27T03:31:27.730342",
     "exception": false,
     "start_time": "2021-01-27T03:31:27.661128",
     "status": "completed"
    },
    "tags": []
   },
   "outputs": [
    {
     "name": "stdout",
     "output_type": "stream",
     "text": [
      "[2 3 4 5]\n"
     ]
    }
   ],
   "source": [
    "a = np.array([1,2,3,4,5,6])\n",
    "print(a[1:5])"
   ]
  },
  {
   "cell_type": "markdown",
   "metadata": {
    "papermill": {
     "duration": 0.058047,
     "end_time": "2021-01-27T03:31:27.846629",
     "exception": false,
     "start_time": "2021-01-27T03:31:27.788582",
     "status": "completed"
    },
    "tags": []
   },
   "source": [
    "![](https://raw.githubusercontent.com/divyanshugit/Insights-of-Python-Libraries/master/src/img_1.png)"
   ]
  },
  {
   "cell_type": "code",
   "execution_count": 31,
   "metadata": {
    "execution": {
     "iopub.execute_input": "2021-01-27T03:31:27.971167Z",
     "iopub.status.busy": "2021-01-27T03:31:27.970507Z",
     "iopub.status.idle": "2021-01-27T03:31:27.975260Z",
     "shell.execute_reply": "2021-01-27T03:31:27.973906Z"
    },
    "papermill": {
     "duration": 0.069317,
     "end_time": "2021-01-27T03:31:27.975433",
     "exception": false,
     "start_time": "2021-01-27T03:31:27.906116",
     "status": "completed"
    },
    "tags": []
   },
   "outputs": [
    {
     "name": "stdout",
     "output_type": "stream",
     "text": [
      "[1 3 5]\n",
      "[2 4 6]\n",
      "[2 3 4 5 6]\n"
     ]
    }
   ],
   "source": [
    "print(a[:6:2])\n",
    "print(a[1::2])\n",
    "print(a[1:6:])"
   ]
  },
  {
   "cell_type": "markdown",
   "metadata": {
    "papermill": {
     "duration": 0.058693,
     "end_time": "2021-01-27T03:31:28.094781",
     "exception": false,
     "start_time": "2021-01-27T03:31:28.036088",
     "status": "completed"
    },
    "tags": []
   },
   "source": [
    "![](https://raw.githubusercontent.com/divyanshugit/Insights-of-Python-Libraries/master/src/img_2.png)"
   ]
  },
  {
   "cell_type": "markdown",
   "metadata": {
    "papermill": {
     "duration": 0.058152,
     "end_time": "2021-01-27T03:31:28.211818",
     "exception": false,
     "start_time": "2021-01-27T03:31:28.153666",
     "status": "completed"
    },
    "tags": []
   },
   "source": [
    "<font color='cadetblue' size='4'>Slicing 2-D NumPy arrays</font>"
   ]
  },
  {
   "cell_type": "markdown",
   "metadata": {
    "papermill": {
     "duration": 0.058225,
     "end_time": "2021-01-27T03:31:28.328418",
     "exception": false,
     "start_time": "2021-01-27T03:31:28.270193",
     "status": "completed"
    },
    "tags": []
   },
   "source": [
    "![](https://raw.githubusercontent.com/divyanshugit/Insights-of-Python-Libraries/master/src/img_13.png)"
   ]
  },
  {
   "cell_type": "code",
   "execution_count": 32,
   "metadata": {
    "execution": {
     "iopub.execute_input": "2021-01-27T03:31:28.455793Z",
     "iopub.status.busy": "2021-01-27T03:31:28.453682Z",
     "iopub.status.idle": "2021-01-27T03:31:28.460706Z",
     "shell.execute_reply": "2021-01-27T03:31:28.460128Z"
    },
    "papermill": {
     "duration": 0.073896,
     "end_time": "2021-01-27T03:31:28.460819",
     "exception": false,
     "start_time": "2021-01-27T03:31:28.386923",
     "status": "completed"
    },
    "tags": []
   },
   "outputs": [
    {
     "name": "stdout",
     "output_type": "stream",
     "text": [
      "First row values : \n",
      " [[1 2 3]]\n",
      "Alternate values from first row: \n",
      " [[1 3]]\n",
      "Second column values : \n",
      " [[2]\n",
      " [5]]\n",
      "Arbitrary values : \n",
      " [[2 3]]\n"
     ]
    }
   ],
   "source": [
    "a = np.array([[1,2,3],[4,5,6]])\n",
    "# print first row values\n",
    "print('First row values :','\\n',a[0:1,:])\n",
    "# with step-size for columns\n",
    "print('Alternate values from first row:','\\n',a[0:1,::2])\n",
    "# \n",
    "print('Second column values :','\\n',a[:,1::2])\n",
    "print('Arbitrary values :','\\n',a[0:1,1:3])"
   ]
  },
  {
   "cell_type": "markdown",
   "metadata": {
    "papermill": {
     "duration": 0.058584,
     "end_time": "2021-01-27T03:31:28.578692",
     "exception": false,
     "start_time": "2021-01-27T03:31:28.520108",
     "status": "completed"
    },
    "tags": []
   },
   "source": [
    "<font color='cadetblue' size='4'>Slicing 3-D NumPy arrays</font>\n",
    "\n",
    "**So far we haven’t seen a 3-D array. Let’s first visualize how a 3-D array looks like:**"
   ]
  },
  {
   "cell_type": "markdown",
   "metadata": {
    "papermill": {
     "duration": 0.058778,
     "end_time": "2021-01-27T03:31:28.696496",
     "exception": false,
     "start_time": "2021-01-27T03:31:28.637718",
     "status": "completed"
    },
    "tags": []
   },
   "source": [
    "![](https://raw.githubusercontent.com/divyanshugit/Insights-of-Python-Libraries/master/src/img_6.png)"
   ]
  },
  {
   "cell_type": "code",
   "execution_count": 33,
   "metadata": {
    "execution": {
     "iopub.execute_input": "2021-01-27T03:31:28.823471Z",
     "iopub.status.busy": "2021-01-27T03:31:28.822587Z",
     "iopub.status.idle": "2021-01-27T03:31:28.826472Z",
     "shell.execute_reply": "2021-01-27T03:31:28.825798Z"
    },
    "papermill": {
     "duration": 0.069933,
     "end_time": "2021-01-27T03:31:28.826585",
     "exception": false,
     "start_time": "2021-01-27T03:31:28.756652",
     "status": "completed"
    },
    "tags": []
   },
   "outputs": [
    {
     "name": "stdout",
     "output_type": "stream",
     "text": [
      "[[[ 1  2]\n",
      "  [ 3  4]\n",
      "  [ 5  6]]\n",
      "\n",
      " [[ 7  8]\n",
      "  [ 9 10]\n",
      "  [11 12]]\n",
      "\n",
      " [[13 14]\n",
      "  [15 16]\n",
      "  [17 18]]]\n"
     ]
    }
   ],
   "source": [
    "a = np.array([[[1,2],[3,4],[5,6]],# first axis array\n",
    "    [[7,8],[9,10],[11,12]],# second axis array\n",
    "    [[13,14],[15,16],[17,18]]])# third axis array\n",
    "# 3-D array\n",
    "print(a)"
   ]
  },
  {
   "cell_type": "code",
   "execution_count": 34,
   "metadata": {
    "execution": {
     "iopub.execute_input": "2021-01-27T03:31:28.953368Z",
     "iopub.status.busy": "2021-01-27T03:31:28.952693Z",
     "iopub.status.idle": "2021-01-27T03:31:28.957796Z",
     "shell.execute_reply": "2021-01-27T03:31:28.957032Z"
    },
    "papermill": {
     "duration": 0.071475,
     "end_time": "2021-01-27T03:31:28.957918",
     "exception": false,
     "start_time": "2021-01-27T03:31:28.886443",
     "status": "completed"
    },
    "tags": []
   },
   "outputs": [
    {
     "name": "stdout",
     "output_type": "stream",
     "text": [
      "First array, first row, first column value : \n",
      " 1\n",
      "First array last column : \n",
      " [2 4 6]\n",
      "First two rows for second and third arrays : \n",
      " [[[ 7  8]\n",
      "  [ 9 10]]\n",
      "\n",
      " [[13 14]\n",
      "  [15 16]]]\n"
     ]
    }
   ],
   "source": [
    "print('First array, first row, first column value :','\\n',a[0,0,0])\n",
    "print('First array last column :','\\n',a[0,:,1])\n",
    "print('First two rows for second and third arrays :','\\n',a[1:,0:2,0:2])"
   ]
  },
  {
   "cell_type": "markdown",
   "metadata": {
    "papermill": {
     "duration": 0.059847,
     "end_time": "2021-01-27T03:31:29.078722",
     "exception": false,
     "start_time": "2021-01-27T03:31:29.018875",
     "status": "completed"
    },
    "tags": []
   },
   "source": [
    "**If in case you wanted the values as a single dimension array, you can always use the flatten() method to do the job!**"
   ]
  },
  {
   "cell_type": "code",
   "execution_count": 35,
   "metadata": {
    "execution": {
     "iopub.execute_input": "2021-01-27T03:31:29.205553Z",
     "iopub.status.busy": "2021-01-27T03:31:29.204851Z",
     "iopub.status.idle": "2021-01-27T03:31:29.208857Z",
     "shell.execute_reply": "2021-01-27T03:31:29.209487Z"
    },
    "papermill": {
     "duration": 0.070644,
     "end_time": "2021-01-27T03:31:29.209635",
     "exception": false,
     "start_time": "2021-01-27T03:31:29.138991",
     "status": "completed"
    },
    "tags": []
   },
   "outputs": [
    {
     "name": "stdout",
     "output_type": "stream",
     "text": [
      "Printing as a single array : \n",
      " [ 7  8  9 10 13 14 15 16]\n"
     ]
    }
   ],
   "source": [
    "print('Printing as a single array :','\\n',a[1:,0:2,0:2].flatten())"
   ]
  },
  {
   "cell_type": "markdown",
   "metadata": {
    "papermill": {
     "duration": 0.060148,
     "end_time": "2021-01-27T03:31:29.330954",
     "exception": false,
     "start_time": "2021-01-27T03:31:29.270806",
     "status": "completed"
    },
    "tags": []
   },
   "source": [
    "<h1 align='center'>NumPy arrays and Images</h1>"
   ]
  },
  {
   "cell_type": "code",
   "execution_count": 36,
   "metadata": {
    "execution": {
     "iopub.execute_input": "2021-01-27T03:31:29.458254Z",
     "iopub.status.busy": "2021-01-27T03:31:29.457510Z",
     "iopub.status.idle": "2021-01-27T03:31:29.802484Z",
     "shell.execute_reply": "2021-01-27T03:31:29.801819Z"
    },
    "papermill": {
     "duration": 0.411113,
     "end_time": "2021-01-27T03:31:29.802596",
     "exception": false,
     "start_time": "2021-01-27T03:31:29.391483",
     "status": "completed"
    },
    "tags": []
   },
   "outputs": [
    {
     "data": {
      "text/plain": [
       "array([[[255, 255, 255],\n",
       "        [255, 255, 255],\n",
       "        [255, 255, 255],\n",
       "        ...,\n",
       "        [255, 255, 255],\n",
       "        [255, 255, 255],\n",
       "        [255, 255, 255]],\n",
       "\n",
       "       [[255, 255, 255],\n",
       "        [255, 255, 255],\n",
       "        [255, 255, 255],\n",
       "        ...,\n",
       "        [255, 255, 255],\n",
       "        [255, 255, 255],\n",
       "        [255, 255, 255]],\n",
       "\n",
       "       [[255, 255, 255],\n",
       "        [255, 255, 255],\n",
       "        [255, 255, 255],\n",
       "        ...,\n",
       "        [255, 255, 255],\n",
       "        [255, 255, 255],\n",
       "        [255, 255, 255]],\n",
       "\n",
       "       ...,\n",
       "\n",
       "       [[215, 221, 226],\n",
       "        [214, 220, 225],\n",
       "        [212, 218, 223],\n",
       "        ...,\n",
       "        [177, 189, 199],\n",
       "        [177, 189, 199],\n",
       "        [180, 192, 202]],\n",
       "\n",
       "       [[213, 219, 224],\n",
       "        [213, 219, 224],\n",
       "        [212, 218, 223],\n",
       "        ...,\n",
       "        [179, 191, 201],\n",
       "        [177, 189, 199],\n",
       "        [178, 190, 200]],\n",
       "\n",
       "       [[210, 216, 221],\n",
       "        [211, 217, 222],\n",
       "        [212, 218, 223],\n",
       "        ...,\n",
       "        [181, 193, 203],\n",
       "        [178, 190, 200],\n",
       "        [177, 189, 199]]], dtype=uint8)"
      ]
     },
     "execution_count": 36,
     "metadata": {},
     "output_type": "execute_result"
    }
   ],
   "source": [
    "import numpy as np\n",
    "import matplotlib.pyplot as plt\n",
    "from scipy import misc\n",
    "import cv2\n",
    "\n",
    "# read image\n",
    "img = cv2.imread('../input/dog-images/dog.jpg')\n",
    "img"
   ]
  },
  {
   "cell_type": "code",
   "execution_count": 37,
   "metadata": {
    "execution": {
     "iopub.execute_input": "2021-01-27T03:31:29.931541Z",
     "iopub.status.busy": "2021-01-27T03:31:29.930837Z",
     "iopub.status.idle": "2021-01-27T03:31:30.470447Z",
     "shell.execute_reply": "2021-01-27T03:31:30.469816Z"
    },
    "papermill": {
     "duration": 0.606166,
     "end_time": "2021-01-27T03:31:30.470568",
     "exception": false,
     "start_time": "2021-01-27T03:31:29.864402",
     "status": "completed"
    },
    "tags": []
   },
   "outputs": [
    {
     "name": "stdout",
     "output_type": "stream",
     "text": [
      "(1200, 1920, 3)\n"
     ]
    },
    {
     "data": {
      "image/png": "[encoded data removed]",
      "text/plain": [
       "<Figure size 432x288 with 1 Axes>"
      ]
     },
     "metadata": {
      "needs_background": "light"
     },
     "output_type": "display_data"
    }
   ],
   "source": [
    "plt.imshow(img)\n",
    "print(img.shape)"
   ]
  },
  {
   "cell_type": "code",
   "execution_count": 38,
   "metadata": {
    "execution": {
     "iopub.execute_input": "2021-01-27T03:31:30.609992Z",
     "iopub.status.busy": "2021-01-27T03:31:30.609296Z",
     "iopub.status.idle": "2021-01-27T03:31:31.060736Z",
     "shell.execute_reply": "2021-01-27T03:31:31.061547Z"
    },
    "papermill": {
     "duration": 0.526199,
     "end_time": "2021-01-27T03:31:31.061752",
     "exception": false,
     "start_time": "2021-01-27T03:31:30.535553",
     "status": "completed"
    },
    "tags": []
   },
   "outputs": [
    {
     "data": {
      "text/plain": [
       "<matplotlib.image.AxesImage at 0x7f6d0e1b3990>"
      ]
     },
     "execution_count": 38,
     "metadata": {},
     "output_type": "execute_result"
    },
    {
     "data": {
      "image/png": "[encoded data removed]",
      "text/plain": [
       "<Figure size 432x288 with 1 Axes>"
      ]
     },
     "metadata": {
      "needs_background": "light"
     },
     "output_type": "display_data"
    }
   ],
   "source": [
    "# flip\n",
    "plt.imshow(np.flip(img, axis=1))"
   ]
  },
  {
   "cell_type": "code",
   "execution_count": 39,
   "metadata": {
    "execution": {
     "iopub.execute_input": "2021-01-27T03:31:31.225862Z",
     "iopub.status.busy": "2021-01-27T03:31:31.224676Z",
     "iopub.status.idle": "2021-01-27T03:31:31.265020Z",
     "shell.execute_reply": "2021-01-27T03:31:31.265568Z"
    },
    "papermill": {
     "duration": 0.118378,
     "end_time": "2021-01-27T03:31:31.265715",
     "exception": false,
     "start_time": "2021-01-27T03:31:31.147337",
     "status": "completed"
    },
    "tags": []
   },
   "outputs": [
    {
     "data": {
      "text/plain": [
       "(1.0, 0.0)"
      ]
     },
     "execution_count": 39,
     "metadata": {},
     "output_type": "execute_result"
    }
   ],
   "source": [
    "img_array = img / 255\n",
    "img_array.max(), img_array.min()"
   ]
  },
  {
   "cell_type": "code",
   "execution_count": 40,
   "metadata": {
    "execution": {
     "iopub.execute_input": "2021-01-27T03:31:31.408486Z",
     "iopub.status.busy": "2021-01-27T03:31:31.407570Z",
     "iopub.status.idle": "2021-01-27T03:31:31.411418Z",
     "shell.execute_reply": "2021-01-27T03:31:31.412286Z"
    },
    "papermill": {
     "duration": 0.078245,
     "end_time": "2021-01-27T03:31:31.412489",
     "exception": false,
     "start_time": "2021-01-27T03:31:31.334244",
     "status": "completed"
    },
    "tags": []
   },
   "outputs": [
    {
     "data": {
      "text/plain": [
       "dtype('float64')"
      ]
     },
     "execution_count": 40,
     "metadata": {},
     "output_type": "execute_result"
    }
   ],
   "source": [
    "img_array.dtype"
   ]
  },
  {
   "cell_type": "code",
   "execution_count": 41,
   "metadata": {
    "execution": {
     "iopub.execute_input": "2021-01-27T03:31:31.563554Z",
     "iopub.status.busy": "2021-01-27T03:31:31.562423Z",
     "iopub.status.idle": "2021-01-27T03:31:31.580828Z",
     "shell.execute_reply": "2021-01-27T03:31:31.580192Z"
    },
    "papermill": {
     "duration": 0.092957,
     "end_time": "2021-01-27T03:31:31.580958",
     "exception": false,
     "start_time": "2021-01-27T03:31:31.488001",
     "status": "completed"
    },
    "tags": []
   },
   "outputs": [],
   "source": [
    "img_gray = img_array @ [0.2126, 0.7152, 0.0722]"
   ]
  },
  {
   "cell_type": "code",
   "execution_count": 42,
   "metadata": {
    "execution": {
     "iopub.execute_input": "2021-01-27T03:31:31.727906Z",
     "iopub.status.busy": "2021-01-27T03:31:31.726844Z",
     "iopub.status.idle": "2021-01-27T03:31:31.732562Z",
     "shell.execute_reply": "2021-01-27T03:31:31.733176Z"
    },
    "papermill": {
     "duration": 0.078848,
     "end_time": "2021-01-27T03:31:31.733348",
     "exception": false,
     "start_time": "2021-01-27T03:31:31.654500",
     "status": "completed"
    },
    "tags": []
   },
   "outputs": [
    {
     "data": {
      "text/plain": [
       "(1200, 1920)"
      ]
     },
     "execution_count": 42,
     "metadata": {},
     "output_type": "execute_result"
    }
   ],
   "source": [
    "img_gray.shape"
   ]
  },
  {
   "cell_type": "code",
   "execution_count": 43,
   "metadata": {
    "execution": {
     "iopub.execute_input": "2021-01-27T03:31:31.876827Z",
     "iopub.status.busy": "2021-01-27T03:31:31.875771Z",
     "iopub.status.idle": "2021-01-27T03:31:32.211487Z",
     "shell.execute_reply": "2021-01-27T03:31:32.212009Z"
    },
    "papermill": {
     "duration": 0.409761,
     "end_time": "2021-01-27T03:31:32.212248",
     "exception": false,
     "start_time": "2021-01-27T03:31:31.802487",
     "status": "completed"
    },
    "tags": []
   },
   "outputs": [
    {
     "data": {
      "text/plain": [
       "<matplotlib.image.AxesImage at 0x7f6d0e1ada90>"
      ]
     },
     "execution_count": 43,
     "metadata": {},
     "output_type": "execute_result"
    },
    {
     "data": {
      "image/png": "[encoded data removed]",
      "text/plain": [
       "<Figure size 432x288 with 1 Axes>"
      ]
     },
     "metadata": {
      "needs_background": "light"
     },
     "output_type": "display_data"
    }
   ],
   "source": [
    "plt.imshow(img_gray,  cmap=\"gray\")"
   ]
  },
  {
   "cell_type": "code",
   "execution_count": null,
   "metadata": {
    "papermill": {
     "duration": 0.07163,
     "end_time": "2021-01-27T03:31:32.356283",
     "exception": false,
     "start_time": "2021-01-27T03:31:32.284653",
     "status": "completed"
    },
    "tags": []
   },
   "outputs": [],
   "source": []
  }
 ],
 "metadata": {
  "kernelspec": {
   "display_name": "Python 3",
   "language": "python",
   "name": "python3"
  },
  "language_info": {
   "codemirror_mode": {
    "name": "ipython",
    "version": 3
   },
   "file_extension": ".py",
   "mimetype": "text/x-python",
   "name": "python",
   "nbconvert_exporter": "python",
   "pygments_lexer": "ipython3",
   "version": "3.7.3"
  },
  "papermill": {
   "duration": 16.955612,
   "end_time": "2021-01-27T03:31:32.536160",
   "environment_variables": {},
   "exception": null,
   "input_path": "__notebook__.ipynb",
   "output_path": "__notebook__.ipynb",
   "parameters": {},
   "start_time": "2021-01-27T03:31:15.580548",
   "version": "2.1.0"
  }
 },
 "nbformat": 4,
 "nbformat_minor": 4
}
